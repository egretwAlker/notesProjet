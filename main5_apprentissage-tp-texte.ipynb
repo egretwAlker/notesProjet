{
 "cells": [
  {
   "cell_type": "markdown",
   "metadata": {},
   "source": [
    "# Exercice 1 - *Embeddings* *de* *mots*\n",
    "\n",
    "On va utiliser la bibliothèque `gensim`. Les instructions d’installation\n",
    "sont disponibles ici https://radimrehurek.com/gensim/.\n",
    "\n",
    "On télécharge immédiatement un modèle pré-entraîné:"
   ],
   "id": "c9af2d6a-f494-4dfa-a59b-dacd0191cb86"
  },
  {
   "cell_type": "code",
   "execution_count": null,
   "metadata": {},
   "outputs": [],
   "source": [
    "import gensim.downloader\n",
    "model = gensim.downloader.load('word2vec-google-news-300')"
   ],
   "id": "e79e71da-9c54-4efe-a659-9992e2ba3569"
  },
  {
   "cell_type": "markdown",
   "metadata": {},
   "source": [
    "Il s’agit un modèle de mot, de type *word2vec*: à chaque mot du\n",
    "vocabulaire est associé un point dans un espace vectoriel:"
   ],
   "id": "bf073e60-4046-4054-b726-f1a7dd38c7a2"
  },
  {
   "cell_type": "code",
   "execution_count": null,
   "metadata": {},
   "outputs": [],
   "source": [
    "model[\"queen\"]"
   ],
   "id": "8843246b-8efc-40e3-bfd6-ac8633e66854"
  },
  {
   "cell_type": "markdown",
   "metadata": {},
   "source": [
    "## Question 1\n",
    "\n",
    "Observez la représentation ainsi obtenue. Quelle est la dimension du\n",
    "vecteur représentant un mot ?\n",
    "\n",
    "## Question 2\n",
    "\n",
    "On peut comparer deux représentations avec:"
   ],
   "id": "2baf99b3-5187-48ea-87d7-7b5c4901c066"
  },
  {
   "cell_type": "code",
   "execution_count": null,
   "metadata": {},
   "outputs": [],
   "source": [
    "model.similarity(\"queen\", \"king\")"
   ],
   "id": "16af3126-4032-4045-93d0-fb33ca5dbe75"
  },
  {
   "cell_type": "markdown",
   "metadata": {},
   "source": [
    "Cette similirité utilise le cosinus entre les vecteurs.\n",
    "\n",
    "Comparez les similarités entres quelques mots. Par exemple\n",
    "\n",
    "-   queen\n",
    "-   king\n",
    "-   woman\n",
    "-   man\n",
    "\n",
    "## Question 3\n",
    "\n",
    "On peut avoir un aperçu du vocabulaire utilisé dans le modèle de la\n",
    "façon suivante:"
   ],
   "id": "3cccd069-95ab-4696-9948-b4d2b6e7703a"
  },
  {
   "cell_type": "code",
   "execution_count": null,
   "metadata": {},
   "outputs": [],
   "source": [
    "model.key_to_index"
   ],
   "id": "3436106c-70a9-4d79-a455-573293477edb"
  },
  {
   "cell_type": "markdown",
   "metadata": {},
   "source": [
    "Combien y a-t-il de mots dans le vocabulaire ?\n",
    "\n",
    "## Question 4\n",
    "\n",
    "Avec `most_similar` on peut rechercher les mots les plus similaires à un\n",
    "autre dans tout le vocabulaire.\n",
    "\n",
    "Commentez la sortie de"
   ],
   "id": "b3ccfd48-3ce2-41a4-b5ac-2f7451fdf6b0"
  },
  {
   "cell_type": "code",
   "execution_count": null,
   "metadata": {},
   "outputs": [],
   "source": [
    "model.most_similar('king')"
   ],
   "id": "28210caa-8600-478d-ac73-8e2f3c7c1d0d"
  },
  {
   "cell_type": "markdown",
   "metadata": {},
   "source": [
    "## Question 5\n",
    "\n",
    "Puisque nous utilisons un espace vectoriel, on peut faire de\n",
    "l’arithmétique entre les représentations.\n",
    "\n",
    "À quoi pourrait correspondre l’expression “king” - “man” + “queen” ?\n",
    "\n",
    "## Question 6\n",
    "\n",
    "Pour des raisons d’implémentation, on utilisera plutôt le code suivant:"
   ],
   "id": "35d13282-a32c-467a-8d02-9238f0585a03"
  },
  {
   "cell_type": "code",
   "execution_count": null,
   "metadata": {},
   "outputs": [],
   "source": [
    "model.most_similar(positive=[\"king\", \"woman\"], negative=[\"man\"])"
   ],
   "id": "306389f7-6957-474e-be10-d4cfa8f9b1c0"
  },
  {
   "cell_type": "markdown",
   "metadata": {},
   "source": [
    "Obtient-on le résultat espéré ?\n",
    "\n",
    "## Question 7\n",
    "\n",
    "Dans les deux phrases suivantes, quelle sera la représentation du mot\n",
    "*bank*:\n",
    "\n",
    "-   “We went to the river bank.”\n",
    "-   “I will go to the bank to make a deposit.”\n",
    "\n",
    "## Question 8\n",
    "\n",
    "Comment représenter un mot inconnu ? (*out of vocabulary*)\n",
    "\n",
    "## Question 9\n",
    "\n",
    "Réalisez une visualation t-SNE de l’embedding.\n",
    "\n",
    "## Question 10\n",
    "\n",
    "Une façon possible de représenter une phrase est de moyenner tous les\n",
    "mots qu’elle contient puis de normaliser le vecteur obtenu.\n",
    "\n",
    "Écrivez une fonction calculant la représentation d’une phrase.\n",
    "\n",
    "## Question 11\n",
    "\n",
    "Écrivez une fonction calculant la similarité entre deux phrases.\n",
    "\n",
    "## Question 12\n",
    "\n",
    "À partir du dataset suivant, affichez la matrice de similarité de ces\n",
    "phrases."
   ],
   "id": "5a9238af-e926-4576-9cd2-f1aa1b5186f7"
  },
  {
   "cell_type": "code",
   "execution_count": null,
   "metadata": {},
   "outputs": [],
   "source": [
    "data = [\n",
    "    'the road is straight',\n",
    "    'the black cat plays with a ball',\n",
    "    'a big dog with a ball',\n",
    "    'dog and cat are together',\n",
    "    'traffic jam on the 6th road',\n",
    "    'white bird on a big tree',\n",
    "    'a big truck',\n",
    "    'two cars crashed',\n",
    "    'two deers in a field',\n",
    "    'I like ridding my bike',\n",
    "    'a lion in the savane',\n",
    "    'a motorcycle rides on the road',\n",
    "    'a mouse bitten by a cat',\n",
    "    'two pigs in the mood',\n",
    "    'take a plane is sometimes slower than taking train',\n",
    "    'take the highway'\n",
    "]"
   ],
   "id": "1d1a6d16-f974-4e41-a86b-43f9fcde4781"
  },
  {
   "cell_type": "markdown",
   "metadata": {},
   "source": [
    "# Exercice 2 - *Tâche* *de* *classification*\n",
    "\n",
    "On s’intéresse maintenant à une tâche de classification binaire. On\n",
    "ajoute donc un label aux phrases précedentes."
   ],
   "id": "7c22ae4b-eaea-4dd1-8efd-ba0a6043ddbc"
  },
  {
   "cell_type": "code",
   "execution_count": null,
   "metadata": {},
   "outputs": [],
   "source": [
    "labels = [+1, -1,  -1, -1, +1, -1, +1, +1, -1, +1, -1, +1, -1, -1, +1, +1]"
   ],
   "id": "e34684a3-da74-41c2-a3f2-7f5899d3aab3"
  },
  {
   "cell_type": "markdown",
   "metadata": {},
   "source": [
    "## Question 13\n",
    "\n",
    "À quoi correspond cette tâche ?\n",
    "\n",
    "## Question 14\n",
    "\n",
    "On pourra utiliser les fragments de code suivants pour associer un mot à\n",
    "sa représentation dans une forme utilisable par `torch`."
   ],
   "id": "5e97d494-65b2-46c8-9cf2-3d385c4ab229"
  },
  {
   "cell_type": "code",
   "execution_count": null,
   "metadata": {},
   "outputs": [],
   "source": [
    "import torch\n",
    "from torch import nn\n",
    "\n",
    "weights = torch.FloatTensor(model.vectors)\n",
    "emb = nn.Embedding.from_pretrained(torch.FloatTensor(weights))"
   ],
   "id": "8800e68c-e429-44b4-b1e6-b156cbfc272d"
  },
  {
   "cell_type": "markdown",
   "metadata": {},
   "source": [
    "Comparez les représentations obtenues directement avec `gensim` et celle\n",
    "calculée avec `torch`."
   ],
   "id": "384b4765-b706-4ce2-9ab3-880414bc9977"
  },
  {
   "cell_type": "code",
   "execution_count": null,
   "metadata": {},
   "outputs": [],
   "source": [
    "model.key_to_index['king']"
   ],
   "id": "44daef7f-6a2b-464f-a26c-c1f430815b95"
  },
  {
   "cell_type": "code",
   "execution_count": null,
   "metadata": {},
   "outputs": [],
   "source": [
    "repr_torch = emb(torch.tensor(model.key_to_index['king']))"
   ],
   "id": "bc70dee5-2e07-44f4-a4ab-d4b2b85853a5"
  },
  {
   "cell_type": "markdown",
   "metadata": {},
   "source": [
    "## Question 15\n",
    "\n",
    "En utilisant la représentation des phrases construites précédemment,\n",
    "construisez un modèle de classification avec `torch`.\n",
    "\n",
    "Le modèle recevra en entrée les phrases et calculera leur\n",
    "représentation. L’architecture sera une simple une couche dense avec un\n",
    "tanh. C’est une bonne idée d’ajouter une régularisation L2 et un\n",
    "dropout.\n",
    "\n",
    "Padding et padding_idx"
   ],
   "id": "71b29889-a078-4bda-8343-1f25de40d0fa"
  }
 ],
 "nbformat": 4,
 "nbformat_minor": 5,
 "metadata": {}
}
